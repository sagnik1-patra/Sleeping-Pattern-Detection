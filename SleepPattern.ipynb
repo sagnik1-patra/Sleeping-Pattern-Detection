{
 "cells": [
  {
   "cell_type": "code",
   "execution_count": 1,
   "id": "6455f13b-60cf-46f7-991e-01446ad8cd9f",
   "metadata": {},
   "outputs": [
    {
     "name": "stderr",
     "output_type": "stream",
     "text": [
      "WARNING:absl:Compiled the loaded model, but the compiled metrics have yet to be built. `model.compile_metrics` will be empty until you train or evaluate the model.\n"
     ]
    },
    {
     "name": "stdout",
     "output_type": "stream",
     "text": [
      "🔗 Sleep Pattern Analyzer Loaded!\n",
      "\u001b[1m1/1\u001b[0m \u001b[32m━━━━━━━━━━━━━━━━━━━━\u001b[0m\u001b[37m\u001b[0m \u001b[1m0s\u001b[0m 80ms/step\n",
      "\n",
      "🛌 Sleep Analysis Result: Insomnia\n",
      "💡 Suggestion:\n",
      "⚠️ You may have signs of Insomnia.\n",
      "• Stick to a consistent sleep schedule\n",
      "• Avoid screens before bed\n",
      "• Practice relaxation techniques like deep breathing\n"
     ]
    }
   ],
   "source": [
    "import pandas as pd\n",
    "import numpy as np\n",
    "import tensorflow as tf\n",
    "from sklearn.preprocessing import StandardScaler\n",
    "import joblib\n",
    "\n",
    "# 📁 Paths\n",
    "model_path = r\"C:\\Users\\sagni\\Downloads\\Sleep-Pattern-Detection\\sleep_disorder_model.h5\"\n",
    "\n",
    "# 💾 Load model\n",
    "model = tf.keras.models.load_model(model_path)\n",
    "\n",
    "# 📝 Label encoders (since we encoded earlier)\n",
    "gender_map = {'Male': 1, 'Female': 0}\n",
    "bmi_map = {'Normal': 0, 'Overweight': 1, 'Obese': 2}\n",
    "disorder_map = {0: \"Healthy Sleep\", 1: \"Sleep Apnea\", 2: \"Insomnia\"}\n",
    "\n",
    "# 🏃‍♂️ Scaler (reuse same scaling logic)\n",
    "scaler = StandardScaler()\n",
    "\n",
    "# 🧠 Suggestions\n",
    "def get_suggestions(pred_label):\n",
    "    if pred_label == \"Healthy Sleep\":\n",
    "        return \"👍 Your sleep pattern looks healthy. Maintain your routine!\"\n",
    "    elif pred_label == \"Sleep Apnea\":\n",
    "        return (\"⚠️ You may have signs of Sleep Apnea.\\n\"\n",
    "                \"• Consult a sleep specialist\\n\"\n",
    "                \"• Try sleeping on your side\\n\"\n",
    "                \"• Avoid alcohol & smoking before bed\")\n",
    "    elif pred_label == \"Insomnia\":\n",
    "        return (\"⚠️ You may have signs of Insomnia.\\n\"\n",
    "                \"• Stick to a consistent sleep schedule\\n\"\n",
    "                \"• Avoid screens before bed\\n\"\n",
    "                \"• Practice relaxation techniques like deep breathing\")\n",
    "\n",
    "# 🔮 Prediction function\n",
    "def predict_sleep_pattern(input_data):\n",
    "    # Prepare data\n",
    "    df = pd.DataFrame([input_data])\n",
    "    df['Gender'] = df['Gender'].map(gender_map)\n",
    "    df['BMI Category'] = df['BMI Category'].map(bmi_map)\n",
    "    df[['Systolic', 'Diastolic']] = df['Blood Pressure'].str.split('/', expand=True).astype(int)\n",
    "    df.drop(['Blood Pressure'], axis=1, inplace=True)\n",
    "    \n",
    "    features = df.values\n",
    "    features_scaled = scaler.fit_transform(features)  # Fit transform as a placeholder\n",
    "    preds = model.predict(features_scaled)\n",
    "    pred_class = np.argmax(preds, axis=1)[0]\n",
    "    pred_label = disorder_map[pred_class]\n",
    "    \n",
    "    print(f\"\\n🛌 Sleep Analysis Result: {pred_label}\")\n",
    "    print(\"💡 Suggestion:\")\n",
    "    print(get_suggestions(pred_label))\n",
    "\n",
    "# 📥 Example input\n",
    "example_input = {\n",
    "    'Gender': 'Male',\n",
    "    'Age': 30,\n",
    "    'Sleep Duration': 5.5,\n",
    "    'Quality of Sleep': 4,\n",
    "    'Physical Activity Level': 20,\n",
    "    'Stress Level': 8,\n",
    "    'BMI Category': 'Overweight',\n",
    "    'Heart Rate': 85,\n",
    "    'Daily Steps': 4000,\n",
    "    'Blood Pressure': '135/90'\n",
    "}\n",
    "\n",
    "if __name__ == \"__main__\":\n",
    "    print(\"🔗 Sleep Pattern Analyzer Loaded!\")\n",
    "    predict_sleep_pattern(example_input)\n"
   ]
  },
  {
   "cell_type": "code",
   "execution_count": null,
   "id": "2b83dadf-788f-46c3-8e4b-63e1861129e1",
   "metadata": {},
   "outputs": [],
   "source": []
  }
 ],
 "metadata": {
  "kernelspec": {
   "display_name": "Python 3.11 (moviepy)",
   "language": "python",
   "name": "py311"
  },
  "language_info": {
   "codemirror_mode": {
    "name": "ipython",
    "version": 3
   },
   "file_extension": ".py",
   "mimetype": "text/x-python",
   "name": "python",
   "nbconvert_exporter": "python",
   "pygments_lexer": "ipython3",
   "version": "3.11.9"
  }
 },
 "nbformat": 4,
 "nbformat_minor": 5
}
