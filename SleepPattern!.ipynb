{
 "cells": [
  {
   "cell_type": "code",
   "execution_count": 1,
   "id": "bf210efc-53ff-4b30-aab0-b086a383cc28",
   "metadata": {},
   "outputs": [
    {
     "name": "stderr",
     "output_type": "stream",
     "text": [
      "WARNING:absl:Compiled the loaded model, but the compiled metrics have yet to be built. `model.compile_metrics` will be empty until you train or evaluate the model.\n"
     ]
    },
    {
     "name": "stdout",
     "output_type": "stream",
     "text": [
      "🔗 Sleep Pattern Analyzer Loaded!\n",
      "\n",
      "📋 Please provide your sleep and health information:\n"
     ]
    },
    {
     "name": "stdin",
     "output_type": "stream",
     "text": [
      "Gender (Male/Female):  Male\n",
      "Age (years):  22\n",
      "Sleep Duration (hours):  4\n",
      "Quality of Sleep (1-10):  6\n",
      "Physical Activity Level (minutes/day):  70\n",
      "Stress Level (1-10):  7\n",
      "BMI Category (Normal/Overweight/Obese):  Overweight\n",
      "Heart Rate (bpm):  80\n",
      "Daily Steps:  1000\n",
      "Blood Pressure (Systolic/Diastolic, e.g., 120/80):  135/70\n"
     ]
    },
    {
     "name": "stdout",
     "output_type": "stream",
     "text": [
      "\u001b[1m1/1\u001b[0m \u001b[32m━━━━━━━━━━━━━━━━━━━━\u001b[0m\u001b[37m\u001b[0m \u001b[1m0s\u001b[0m 79ms/step\n",
      "\n",
      "🛌 Sleep Analysis Result:  Insomnia\n",
      "💡 Suggestion:\n",
      "⚠️ You may have signs of Insomnia.\n",
      "• Stick to a consistent sleep schedule\n",
      "• Avoid screens before bed\n",
      "• Practice relaxation techniques like deep breathing\n"
     ]
    }
   ],
   "source": [
    "import pandas as pd\n",
    "import numpy as np\n",
    "import tensorflow as tf\n",
    "from sklearn.preprocessing import StandardScaler\n",
    "\n",
    "# 📁 Paths\n",
    "model_path = r\"C:\\Users\\sagni\\Downloads\\Sleep-Pattern-Detection\\sleep_disorder_model.h5\"\n",
    "\n",
    "# 💾 Load model\n",
    "model = tf.keras.models.load_model(model_path)\n",
    "\n",
    "# 📝 Label encoders (same as training)\n",
    "gender_map = {'Male': 1, 'Female': 0}\n",
    "bmi_map = {'Normal': 0, 'Overweight': 1, 'Obese': 2}\n",
    "disorder_map = {0: \"Healthy Sleep\", 1: \"Sleep Apnea\", 2: \"Insomnia\"}\n",
    "\n",
    "# 🧠 Suggestions\n",
    "def get_suggestions(pred_label):\n",
    "    if pred_label == \"Healthy Sleep\":\n",
    "        return \"👍 Your sleep pattern looks healthy. Maintain your routine!\"\n",
    "    elif pred_label == \"Sleep Apnea\":\n",
    "        return (\"⚠️ You may have signs of Sleep Apnea.\\n\"\n",
    "                \"• Consult a sleep specialist\\n\"\n",
    "                \"• Try sleeping on your side\\n\"\n",
    "                \"• Avoid alcohol & smoking before bed\")\n",
    "    elif pred_label == \"Insomnia\":\n",
    "        return (\"⚠️ You may have signs of Insomnia.\\n\"\n",
    "                \"• Stick to a consistent sleep schedule\\n\"\n",
    "                \"• Avoid screens before bed\\n\"\n",
    "                \"• Practice relaxation techniques like deep breathing\")\n",
    "\n",
    "# 🔮 Prediction function\n",
    "def predict_sleep_pattern(input_data):\n",
    "    # Prepare data\n",
    "    df = pd.DataFrame([input_data])\n",
    "    df['Gender'] = df['Gender'].map(gender_map)\n",
    "    df['BMI Category'] = df['BMI Category'].map(bmi_map)\n",
    "    df[['Systolic', 'Diastolic']] = df['Blood Pressure'].str.split('/', expand=True).astype(int)\n",
    "    df.drop(['Blood Pressure'], axis=1, inplace=True)\n",
    "    \n",
    "    features = df.values\n",
    "    scaler = StandardScaler()\n",
    "    features_scaled = scaler.fit_transform(features)  # Fit transform as placeholder\n",
    "    \n",
    "    preds = model.predict(features_scaled)\n",
    "    pred_class = np.argmax(preds, axis=1)[0]\n",
    "    pred_label = disorder_map[pred_class]\n",
    "    \n",
    "    print(\"\\n🛌 Sleep Analysis Result: \", pred_label)\n",
    "    print(\"💡 Suggestion:\")\n",
    "    print(get_suggestions(pred_label))\n",
    "\n",
    "# 📥 Get user input\n",
    "def get_user_input():\n",
    "    print(\"\\n📋 Please provide your sleep and health information:\")\n",
    "    gender = input(\"Gender (Male/Female): \").strip().title()\n",
    "    age = int(input(\"Age (years): \"))\n",
    "    sleep_duration = float(input(\"Sleep Duration (hours): \"))\n",
    "    quality_of_sleep = int(input(\"Quality of Sleep (1-10): \"))\n",
    "    activity_level = int(input(\"Physical Activity Level (minutes/day): \"))\n",
    "    stress_level = int(input(\"Stress Level (1-10): \"))\n",
    "    bmi_category = input(\"BMI Category (Normal/Overweight/Obese): \").strip().title()\n",
    "    heart_rate = int(input(\"Heart Rate (bpm): \"))\n",
    "    daily_steps = int(input(\"Daily Steps: \"))\n",
    "    blood_pressure = input(\"Blood Pressure (Systolic/Diastolic, e.g., 120/80): \").strip()\n",
    "\n",
    "    return {\n",
    "        'Gender': gender,\n",
    "        'Age': age,\n",
    "        'Sleep Duration': sleep_duration,\n",
    "        'Quality of Sleep': quality_of_sleep,\n",
    "        'Physical Activity Level': activity_level,\n",
    "        'Stress Level': stress_level,\n",
    "        'BMI Category': bmi_category,\n",
    "        'Heart Rate': heart_rate,\n",
    "        'Daily Steps': daily_steps,\n",
    "        'Blood Pressure': blood_pressure\n",
    "    }\n",
    "\n",
    "if __name__ == \"__main__\":\n",
    "    print(\"🔗 Sleep Pattern Analyzer Loaded!\")\n",
    "    user_data = get_user_input()\n",
    "    predict_sleep_pattern(user_data)\n"
   ]
  },
  {
   "cell_type": "code",
   "execution_count": null,
   "id": "d2cfe554-f262-4ee6-b59f-199ad1a6450a",
   "metadata": {},
   "outputs": [],
   "source": []
  }
 ],
 "metadata": {
  "kernelspec": {
   "display_name": "Python 3.11 (moviepy)",
   "language": "python",
   "name": "py311"
  },
  "language_info": {
   "codemirror_mode": {
    "name": "ipython",
    "version": 3
   },
   "file_extension": ".py",
   "mimetype": "text/x-python",
   "name": "python",
   "nbconvert_exporter": "python",
   "pygments_lexer": "ipython3",
   "version": "3.11.9"
  }
 },
 "nbformat": 4,
 "nbformat_minor": 5
}
